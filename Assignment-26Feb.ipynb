{
 "cells": [
  {
   "cell_type": "markdown",
   "id": "91d60021-a5b1-403d-9e7b-759aa5526af2",
   "metadata": {},
   "source": [
    "Consider the below code to answer further questions:   "
   ]
  },
  {
   "cell_type": "code",
   "execution_count": 1,
   "id": "04f0d310-c533-4d09-a0c2-8d270d4bc219",
   "metadata": {},
   "outputs": [],
   "source": [
    "import numpy as np\n",
    "List_ = ['1' , '2' , '3' ,'4', '5']\n",
    "array_List = np.array(object = List_)"
   ]
  },
  {
   "cell_type": "markdown",
   "id": "8b68b728-efa8-448e-9974-2c4f00726537",
   "metadata": {},
   "source": [
    "Q1. Is there any difference in the data type of variables list_ and array_list? If there is then write a code to print the data types of both the variables."
   ]
  },
  {
   "cell_type": "markdown",
   "id": "2236bee1-9df4-4f44-b368-0e84e07e7ed3",
   "metadata": {},
   "source": [
    "type(List_)"
   ]
  },
  {
   "cell_type": "code",
   "execution_count": 4,
   "id": "c09d79c3-4515-4693-a06e-3e0b1b71ffa3",
   "metadata": {},
   "outputs": [
    {
     "data": {
      "text/plain": [
       "numpy.ndarray"
      ]
     },
     "execution_count": 4,
     "metadata": {},
     "output_type": "execute_result"
    }
   ],
   "source": [
    "type(array_List)"
   ]
  },
  {
   "cell_type": "code",
   "execution_count": 7,
   "id": "1bc263d8-bd9b-4dd3-95c2-b17400ed0640",
   "metadata": {},
   "outputs": [
    {
     "data": {
      "text/plain": [
       "dtype('<U1')"
      ]
     },
     "execution_count": 7,
     "metadata": {},
     "output_type": "execute_result"
    }
   ],
   "source": [
    "array_List.dtype"
   ]
  },
  {
   "cell_type": "markdown",
   "id": "9e54c660-8fa1-4ceb-a49e-493ba4bfb1bb",
   "metadata": {},
   "source": [
    "Q2. Write a code to print the data type of each and every element of both the variables list_ and arra_list."
   ]
  },
  {
   "cell_type": "code",
   "execution_count": 9,
   "id": "8d9f975a-c476-4a62-8f41-f9b1642e817e",
   "metadata": {},
   "outputs": [
    {
     "name": "stdout",
     "output_type": "stream",
     "text": [
      "<class 'str'>\n",
      "<class 'str'>\n",
      "<class 'str'>\n",
      "<class 'str'>\n",
      "<class 'str'>\n"
     ]
    }
   ],
   "source": [
    "for i in List_:\n",
    "    print(type(i))"
   ]
  },
  {
   "cell_type": "code",
   "execution_count": 10,
   "id": "2d3ef984-f3c5-4fe3-bbd9-861706d687bd",
   "metadata": {},
   "outputs": [
    {
     "name": "stdout",
     "output_type": "stream",
     "text": [
      "<class 'numpy.str_'>\n",
      "<class 'numpy.str_'>\n",
      "<class 'numpy.str_'>\n",
      "<class 'numpy.str_'>\n",
      "<class 'numpy.str_'>\n"
     ]
    }
   ],
   "source": [
    "for i in array_List:\n",
    "    print(type(i))"
   ]
  },
  {
   "cell_type": "markdown",
   "id": "15992050-805f-43d5-b20e-a4295f9a54cd",
   "metadata": {},
   "source": [
    "Q3. Considering the following changes in the variable, array_list:"
   ]
  },
  {
   "cell_type": "code",
   "execution_count": 11,
   "id": "553726f5-ea15-4576-b402-05b1bf8b1263",
   "metadata": {},
   "outputs": [],
   "source": [
    "array_List = np.array(object = List_, dtype = int)"
   ]
  },
  {
   "cell_type": "markdown",
   "id": "aa6de1b6-0786-48cc-977d-8e28a59ba368",
   "metadata": {},
   "source": [
    "Will there be any difference in the data type of the elements present in both the variables, list_ and arra_list? If so then print the data types of each and every element present in both the variables, list_ and arra_list."
   ]
  },
  {
   "cell_type": "code",
   "execution_count": 12,
   "id": "6818c6d5-d4c3-4ad0-96b4-47ace7b847d7",
   "metadata": {},
   "outputs": [
    {
     "name": "stdout",
     "output_type": "stream",
     "text": [
      "<class 'str'>\n",
      "<class 'str'>\n",
      "<class 'str'>\n",
      "<class 'str'>\n",
      "<class 'str'>\n"
     ]
    }
   ],
   "source": [
    "for i in List_:\n",
    "    print(type(i))"
   ]
  },
  {
   "cell_type": "code",
   "execution_count": 14,
   "id": "be1e2f39-764a-424b-9000-acab6be35344",
   "metadata": {},
   "outputs": [
    {
     "name": "stdout",
     "output_type": "stream",
     "text": [
      "<class 'numpy.int64'>\n",
      "<class 'numpy.int64'>\n",
      "<class 'numpy.int64'>\n",
      "<class 'numpy.int64'>\n",
      "<class 'numpy.int64'>\n"
     ]
    }
   ],
   "source": [
    "for i in array_List:\n",
    "    print(type(i))"
   ]
  },
  {
   "cell_type": "markdown",
   "id": "aab949d7-e09d-484d-b74f-a61d6d6db923",
   "metadata": {},
   "source": [
    "Consider the below code to answer further questions:"
   ]
  },
  {
   "cell_type": "code",
   "execution_count": 15,
   "id": "a459f24f-9f68-4b51-84ea-ef775414e148",
   "metadata": {},
   "outputs": [],
   "source": [
    "import numpy as np\n",
    "num_List = [ [ 1 , 2 , 3 ] , [ 4 , 5 , 6 ] ]\n",
    "num_array = np.array(object = num_List)"
   ]
  },
  {
   "cell_type": "markdown",
   "id": "30fa9cba-d812-491f-8248-9eb262ed156f",
   "metadata": {},
   "source": [
    "Q4. Write a code to find the following characteristics of variable, num_array:\n",
    "\n",
    "(i) shape\n",
    "(ii) size"
   ]
  },
  {
   "cell_type": "code",
   "execution_count": 16,
   "id": "cc709214-a62f-4456-8602-77451b7071c3",
   "metadata": {},
   "outputs": [
    {
     "data": {
      "text/plain": [
       "(2, 3)"
      ]
     },
     "execution_count": 16,
     "metadata": {},
     "output_type": "execute_result"
    }
   ],
   "source": [
    "num_array.shape"
   ]
  },
  {
   "cell_type": "code",
   "execution_count": 17,
   "id": "7b7b6935-8b1a-4be4-aa0a-fc88b3e36a53",
   "metadata": {},
   "outputs": [
    {
     "data": {
      "text/plain": [
       "6"
      ]
     },
     "execution_count": 17,
     "metadata": {},
     "output_type": "execute_result"
    }
   ],
   "source": [
    "num_array.size"
   ]
  },
  {
   "cell_type": "markdown",
   "id": "f31a2b6b-3773-49ce-abbd-97fc4c039bb1",
   "metadata": {},
   "source": [
    "Q5. Write a code to create numpy array of 3*3 matrix containing zeros only, using a numpy array creation function.\n",
    "\n",
    "[Hint: The size of the array will be 9 and the shape will be (3,3).]"
   ]
  },
  {
   "cell_type": "code",
   "execution_count": 18,
   "id": "7f41e875-dbb2-4990-95d4-21a85d0bd647",
   "metadata": {},
   "outputs": [],
   "source": [
    "arr = np.zeros((3,3))"
   ]
  },
  {
   "cell_type": "code",
   "execution_count": 19,
   "id": "490e12e1-7be7-4828-b8ba-f36360a0e9d3",
   "metadata": {},
   "outputs": [
    {
     "data": {
      "text/plain": [
       "array([[0., 0., 0.],\n",
       "       [0., 0., 0.],\n",
       "       [0., 0., 0.]])"
      ]
     },
     "execution_count": 19,
     "metadata": {},
     "output_type": "execute_result"
    }
   ],
   "source": [
    "arr"
   ]
  },
  {
   "cell_type": "code",
   "execution_count": 20,
   "id": "0ebe4418-742a-433a-93f9-ac6a8a0bfec9",
   "metadata": {},
   "outputs": [
    {
     "data": {
      "text/plain": [
       "9"
      ]
     },
     "execution_count": 20,
     "metadata": {},
     "output_type": "execute_result"
    }
   ],
   "source": [
    "arr.size"
   ]
  },
  {
   "cell_type": "markdown",
   "id": "f6a7aefb-2887-4df5-882f-38f1e637b617",
   "metadata": {},
   "source": [
    "Q6. Create an identity matrix of shape (5,5) using numpy functions?\n",
    "\n",
    "[Hint: An identity matrix is a matrix containing 1 diagonally and other elements will be 0.]"
   ]
  },
  {
   "cell_type": "code",
   "execution_count": 22,
   "id": "b315cfb4-31d3-4f6b-a838-ad65f36ac347",
   "metadata": {},
   "outputs": [],
   "source": [
    "ey = np.eye(5)"
   ]
  },
  {
   "cell_type": "code",
   "execution_count": 23,
   "id": "1e6e28de-1465-4693-bf50-c7f9df9138c8",
   "metadata": {},
   "outputs": [
    {
     "data": {
      "text/plain": [
       "array([[1., 0., 0., 0., 0.],\n",
       "       [0., 1., 0., 0., 0.],\n",
       "       [0., 0., 1., 0., 0.],\n",
       "       [0., 0., 0., 1., 0.],\n",
       "       [0., 0., 0., 0., 1.]])"
      ]
     },
     "execution_count": 23,
     "metadata": {},
     "output_type": "execute_result"
    }
   ],
   "source": [
    "ey"
   ]
  },
  {
   "cell_type": "code",
   "execution_count": null,
   "id": "22123d00-4bed-4c92-ac60-ec1f301dc8c1",
   "metadata": {},
   "outputs": [],
   "source": []
  }
 ],
 "metadata": {
  "kernelspec": {
   "display_name": "Python 3 (ipykernel)",
   "language": "python",
   "name": "python3"
  },
  "language_info": {
   "codemirror_mode": {
    "name": "ipython",
    "version": 3
   },
   "file_extension": ".py",
   "mimetype": "text/x-python",
   "name": "python",
   "nbconvert_exporter": "python",
   "pygments_lexer": "ipython3",
   "version": "3.10.6"
  }
 },
 "nbformat": 4,
 "nbformat_minor": 5
}
